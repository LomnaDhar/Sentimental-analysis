{
  "nbformat": 4,
  "nbformat_minor": 0,
  "metadata": {
    "colab": {
      "name": "blackcoffer.ipynb",
      "provenance": [],
      "collapsed_sections": [],
      "authorship_tag": "ABX9TyPn2lc4gyRUKUCkOXBXzc7f",
      "include_colab_link": true
    },
    "kernelspec": {
      "name": "python3",
      "display_name": "Python 3"
    },
    "language_info": {
      "name": "python"
    }
  },
  "cells": [
    {
      "cell_type": "markdown",
      "metadata": {
        "id": "view-in-github",
        "colab_type": "text"
      },
      "source": [
        "<a href=\"https://colab.research.google.com/github/LomnaDhar/Sentimental-analysis/blob/main/blackcoffer.ipynb\" target=\"_parent\"><img src=\"https://colab.research.google.com/assets/colab-badge.svg\" alt=\"Open In Colab\"/></a>"
      ]
    },
    {
      "cell_type": "markdown",
      "source": [
        "Importing Libraries"
      ],
      "metadata": {
        "id": "1DXNl_OKAx_B"
      }
    },
    {
      "cell_type": "code",
      "execution_count": null,
      "metadata": {
        "id": "_v4T-fYt-DzW"
      },
      "outputs": [],
      "source": [
        "import urllib.request as ur\n",
        "from IPython.display import HTML\n",
        "from bs4 import BeautifulSoup as bs\n",
        "import re\n",
        "import requests\n",
        "import pandas as pd\n",
        "import nltk\n",
        "from nltk.corpus import stopwords\n",
        "from nltk.tokenize import word_tokenize"
      ]
    },
    {
      "cell_type": "code",
      "source": [
        "from google.colab import drive\n",
        "drive.mount('/content/drive')"
      ],
      "metadata": {
        "colab": {
          "base_uri": "https://localhost:8080/"
        },
        "id": "bCJFrRX7uD9i",
        "outputId": "09914551-f0b8-407c-b17a-70bdb88ffb7a"
      },
      "execution_count": null,
      "outputs": [
        {
          "output_type": "stream",
          "name": "stdout",
          "text": [
            "Mounted at /content/drive\n"
          ]
        }
      ]
    },
    {
      "cell_type": "code",
      "source": [
        "\n",
        "input_file=pd.read_excel(\"/content/drive/MyDrive/Blackcoffer/input blackcoffer.xlsx\")\n",
        "input_file.shape"
      ],
      "metadata": {
        "id": "xU6AKYyUORDg",
        "colab": {
          "base_uri": "https://localhost:8080/"
        },
        "outputId": "61f835aa-a7d5-4dc3-b685-5a017a95c824"
      },
      "execution_count": null,
      "outputs": [
        {
          "output_type": "execute_result",
          "data": {
            "text/plain": [
              "(170, 2)"
            ]
          },
          "metadata": {},
          "execution_count": 3
        }
      ]
    },
    {
      "cell_type": "code",
      "source": [
        "link_array=input_file.to_numpy(dtype=\"str\")\n",
        "print(link_array[:5])"
      ],
      "metadata": {
        "colab": {
          "base_uri": "https://localhost:8080/"
        },
        "id": "xyL5P3N0wv5x",
        "outputId": "a3e2c310-e7d2-4ef1-b702-28d31abf4732"
      },
      "execution_count": null,
      "outputs": [
        {
          "output_type": "stream",
          "name": "stdout",
          "text": [
            "[['1'\n",
            "  'https://insights.blackcoffer.com/how-is-login-logout-time-tracking-for-employees-in-office-done-by-ai/']\n",
            " ['2'\n",
            "  'https://insights.blackcoffer.com/how-does-ai-help-to-monitor-retail-shelf-watches/']\n",
            " ['3'\n",
            "  'https://insights.blackcoffer.com/ai-and-its-impact-on-the-fashion-industry/']\n",
            " ['4'\n",
            "  'https://insights.blackcoffer.com/how-do-deep-learning-models-predict-old-and-new-drugs-that-are-successfully-treated-in-healthcare/']\n",
            " ['5'\n",
            "  'https://insights.blackcoffer.com/how-artificial-intelligence-can-boost-your-productivity-level/']]\n"
          ]
        }
      ]
    },
    {
      "cell_type": "code",
      "source": [
        "headers = {\n",
        "    'User-Agent': 'Mozilla/5.0 (Macintosh; Intel Mac OS X 10.12; rv:55.0) Gecko/20100101 Firefox/55.0',\n",
        "}\n",
        "for link in link_array:\n",
        "  r=requests.get(link[1],headers=headers).text\n",
        "  soup=bs(r,'lxml')\n",
        "  title=str(soup.title)\n",
        "  article=str(soup.find_all(\"p\"))\n",
        "  final_doc=title+article\n",
        "  clean_doc= re.sub(r'<.*?>',' ',str(final_doc))\n",
        "  txt_file=open(\"{}.txt\".format(link[0]),\"w\")\n",
        "  txt_file.write(clean_doc)"
      ],
      "metadata": {
        "id": "reKqKpObxukG"
      },
      "execution_count": null,
      "outputs": []
    },
    {
      "cell_type": "code",
      "source": [
        "headers = {\n",
        "    'User-Agent': 'Mozilla/5.0 (Macintosh; Intel Mac OS X 10.12; rv:55.0) Gecko/20100101 Firefox/55.0',\n",
        "}\n",
        "f= requests.get(\"https://insights.blackcoffer.com/how-is-login-logout-time-tracking-for-employees-in-office-done-by-ai/\", headers=headers).text\n",
        "s=bs(f,\"lxml\")\n",
        "ti=str(s.title)\n",
        "ar= str(s.find_all(\"p\"))\n",
        "fi= ti+ar\n",
        "cl_doc = re.sub(r'<.*?>',' ',str(fi))\n",
        "tx= open(\"55.txt\",\"w\")\n",
        "tx.write(cl_doc)"
      ],
      "metadata": {
        "colab": {
          "base_uri": "https://localhost:8080/"
        },
        "id": "ELc4Uy4y0oi-",
        "outputId": "31632c06-228e-46cb-b973-414a2ffe58cf"
      },
      "execution_count": null,
      "outputs": [
        {
          "output_type": "execute_result",
          "data": {
            "text/plain": [
              "4426"
            ]
          },
          "metadata": {},
          "execution_count": 18
        }
      ]
    },
    {
      "cell_type": "code",
      "source": [
        "art= \"\"\"With increasing computing power and more data, the potential value of algorithms became higher. People and companies saw possibilities to embed these smart systems into their companies to drive strategy and innovation. As the power of algorithms, computing, and amounts of data increased companies started to see an increasing amount of use cases. AI started to become an essential value. Companies saw that these systems could move them closer to their customers, drive efficiency, enhance employee experience and capability, automatize tasks, decrease costs and improve revenue. But AI went through some lulls and spikes before it became capable of enabling so many benefits. At a certain point, the general public gave up on AI and machine learning as a whole, which stalled developments and investments.\n",
        "\n",
        "AI uses computer vision and deep learning to achieve these results. Computer vision incorporates neural networks that help computers detect objects within shelf images and classify them accurately.\n",
        "\n",
        "Deep learning is a new area that is moving machine learning closer to one of its original goals: AI. In deep learning, a computer system is fed a lot of data, which it then observes and analyzes to recognize emergent patterns and trends, ultimately generating appropriate recommendations and predictions.\n",
        "\n",
        "Deep learning applications, especially in the field of computer vision, are more than ready for prime time. Recently, a neural network architecture won the ImageNet challenge by classifying a wide variety of objects – like birds, ships, and cats – into the correct categories more accurately than humans did.\n",
        "\n",
        "Back at the store shelf, even subtle differences between objects, poor lighting, reflections, and background clutter can be overcome with these powerful AI applications.\n",
        "\n",
        "Our tool recognizes products among thousands of possible retail items and verifies their placement according to the given planogram. This translates into the automation o shelf management activities, centralized monitoring of shelf arrangement over hundreds of branches, and validation of the product, license agreement for suppliers.\n",
        "\n",
        "The use of ML-powered analytics solutions can help businesses forecast inventory demand with high accuracy. Systems that rely on machine learning are capable of analyzing a multitude of data points, finding subtle patterns (indicating changes in customer preferences, behavior, or satisfaction), which can be non-obvious to humans. What’s more, these systems don’t require explicit programming as machine learning models learn from data. The more data is fed to them, the better they handle it while deriving meaningful insights.\n",
        "\n",
        "Our system will automate manual tasks like gap and price scanning and free up your staff to help shoppers. It increases availability and provides real-time, accurate alerts to restock shelves faster than ever and increase on-shelf availability.it will transform the supply chain. Drive supply chain decisions with real-time shelf data to understand actual demand and avoid inaccurate inventory management and comply with price and promotions. Automatically detect mismatches at the shelf and avoid customer frustration. Our system will harmonize online and offline channels. Optimize online order picking and reflect your real availability to the shopper as they make their online order\n",
        "\n",
        "By this system, if it is implemented in a supermarket, where we can use this application to predict the market price and demand and accordingly we can forecast the demand and take actions in prior and this system can also keep track of the expiry of each perishable products and alerts for them to change it accordingly at the correct time. If some new product is released in the market and that is with great demand, our system will try to analyze where it is placed in the store, If it is not present in the store our system will report to the sales manager to add these new products in the store at a much reachable and visible place for the buyers.\"\"\""
      ],
      "metadata": {
        "id": "Ww6DIdU0TpNb"
      },
      "execution_count": null,
      "outputs": []
    },
    {
      "cell_type": "code",
      "source": [
        "nltk.download('stopwords')\n",
        "nltk.download('punkt')"
      ],
      "metadata": {
        "colab": {
          "base_uri": "https://localhost:8080/"
        },
        "id": "87-ZiiWjhLWK",
        "outputId": "64668ba4-1c5c-4629-c79e-e0f29f333e55"
      },
      "execution_count": null,
      "outputs": [
        {
          "output_type": "stream",
          "name": "stdout",
          "text": [
            "[nltk_data] Downloading package stopwords to /root/nltk_data...\n",
            "[nltk_data]   Unzipping corpora/stopwords.zip.\n",
            "[nltk_data] Downloading package punkt to /root/nltk_data...\n",
            "[nltk_data]   Unzipping tokenizers/punkt.zip.\n"
          ]
        },
        {
          "output_type": "execute_result",
          "data": {
            "text/plain": [
              "True"
            ]
          },
          "metadata": {},
          "execution_count": 3
        }
      ]
    },
    {
      "cell_type": "code",
      "source": [
        "def decontracted(phrase):\n",
        "    # specific\n",
        "    phrase = re.sub(r\"won't\", \"will not\", phrase)\n",
        "    phrase = re.sub(r\"can\\'t\", \"can not\", phrase)\n",
        "\n",
        "    # general\n",
        "    phrase = re.sub(r\"n\\'t\", \" not\", phrase)\n",
        "    phrase = re.sub(r\"\\'re\", \" are\", phrase)\n",
        "    phrase = re.sub(r\"\\'s\", \" is\", phrase)\n",
        "    phrase = re.sub(r\"\\'d\", \" would\", phrase)\n",
        "    phrase = re.sub(r\"\\'ll\", \" will\", phrase)\n",
        "    phrase = re.sub(r\"\\'t\", \" not\", phrase)\n",
        "    phrase = re.sub(r\"\\'ve\", \" have\", phrase)\n",
        "    phrase = re.sub(r\"\\'m\", \" am\", phrase)\n",
        "    return phrase\n",
        "\n",
        "lo=decontracted(art)\n",
        "print(lo)"
      ],
      "metadata": {
        "colab": {
          "base_uri": "https://localhost:8080/"
        },
        "id": "YmRrbieuiUl9",
        "outputId": "c8511cc0-24d7-4732-ef4d-d763a5727f72"
      },
      "execution_count": null,
      "outputs": [
        {
          "output_type": "stream",
          "name": "stdout",
          "text": [
            "When people hear AI they often think about sentient robots and magic boxes. AI today is much more mundane and simple—but that doesn’t mean it’s not powerful. \n",
            "Another misconception is that high-profile research projects can be applied directly to any business situation. AI done right can create an extreme return on investments (ROIs)—for \n",
            "instance through automation or precise prediction. But it does take thought, time, and proper implementation. We have seen that success and value generated by AI projects are \n",
            "increased when there is a grounded understanding and expectation of what the technology can deliver from the C-suite down.Artificial Intelligence (AI) is a science and a set of \n",
            "computational technologies that are inspired by—but typically operate quite differently from—the ways people use their nervous systems and bodies to sense, learn, reason \n",
            "and take action.”3 Lately there has been a big rise in the day-to-day use of machines powered by AI. These machines are wired using cross-disciplinary approaches based on \n",
            "mathematics, computer science, statistics, psychology, and more.4 Virtual assistants are becoming more common, most of the web shops predict your purchases, many companies \n",
            "make use of chatbots in their customer service and many companies use algorithms to detect fraud.AI and Deep Learning technology employed in office entry systems will bring\n",
            " proper time tracking of each employee. As this system tries to learn each person with an image processing technology whose data is feed forwarded to a deep learning model \n",
            " where Deep learning isn’t an algorithm per se, but rather a family of algorithms that implements deep networks (many layers). These networks are so deep that new methods\n",
            "  of computation, such as graphics processing units (GPUs), are required to train them, in addition to clusters of compute nodes. So using deep learning we can take detect \n",
            "  the employee using face and person recognition scan and through which login, logout timing is recorded. Using an AI system we can even identify each employee’s entry time, \n",
            "  their working hours, non-working hours by tracking the movement of an employee in the office so that system can predict and report HR for the salary for each employee based on \n",
            "  their working hours. Our system can take feed from CCTV to track movements of employees and this system is capable of recognizing a person even he/she is being masked as in \n",
            "  this pandemic situation by taking their iris scan. With this system installed inside the office, the following are some of the benefits\n"
          ]
        }
      ]
    },
    {
      "cell_type": "code",
      "source": [
        "\n",
        "art1 = re.sub(r'[^\\w\\s]', '', art)\n",
        "stop_words = set(stopwords.words('english'))\n",
        "word_tokens = word_tokenize(art1)\n",
        "filtered_sentence = [w for w in word_tokens if not w.lower() in stop_words]\n",
        "print(filtered_sentence)\n",
        "len(filtered_sentence)"
      ],
      "metadata": {
        "colab": {
          "base_uri": "https://localhost:8080/"
        },
        "id": "UvTPieXPW-JO",
        "outputId": "8ff6aa9e-9ff9-4f64-a3f3-f71079170219"
      },
      "execution_count": null,
      "outputs": [
        {
          "output_type": "stream",
          "name": "stdout",
          "text": [
            "['increasing', 'computing', 'power', 'data', 'potential', 'value', 'algorithms', 'became', 'higher', 'People', 'companies', 'saw', 'possibilities', 'embed', 'smart', 'systems', 'companies', 'drive', 'strategy', 'innovation', 'power', 'algorithms', 'computing', 'amounts', 'data', 'increased', 'companies', 'started', 'see', 'increasing', 'amount', 'use', 'cases', 'AI', 'started', 'become', 'essential', 'value', 'Companies', 'saw', 'systems', 'could', 'move', 'closer', 'customers', 'drive', 'efficiency', 'enhance', 'employee', 'experience', 'capability', 'automatize', 'tasks', 'decrease', 'costs', 'improve', 'revenue', 'AI', 'went', 'lulls', 'spikes', 'became', 'capable', 'enabling', 'many', 'benefits', 'certain', 'point', 'general', 'public', 'gave', 'AI', 'machine', 'learning', 'whole', 'stalled', 'developments', 'investments', 'AI', 'uses', 'computer', 'vision', 'deep', 'learning', 'achieve', 'results', 'Computer', 'vision', 'incorporates', 'neural', 'networks', 'help', 'computers', 'detect', 'objects', 'within', 'shelf', 'images', 'classify', 'accurately', 'Deep', 'learning', 'new', 'area', 'moving', 'machine', 'learning', 'closer', 'one', 'original', 'goals', 'AI', 'deep', 'learning', 'computer', 'system', 'fed', 'lot', 'data', 'observes', 'analyzes', 'recognize', 'emergent', 'patterns', 'trends', 'ultimately', 'generating', 'appropriate', 'recommendations', 'predictions', 'Deep', 'learning', 'applications', 'especially', 'field', 'computer', 'vision', 'ready', 'prime', 'time', 'Recently', 'neural', 'network', 'architecture', 'ImageNet', 'challenge', 'classifying', 'wide', 'variety', 'objects', 'like', 'birds', 'ships', 'cats', 'correct', 'categories', 'accurately', 'humans', 'Back', 'store', 'shelf', 'even', 'subtle', 'differences', 'objects', 'poor', 'lighting', 'reflections', 'background', 'clutter', 'overcome', 'powerful', 'AI', 'applications', 'tool', 'recognizes', 'products', 'among', 'thousands', 'possible', 'retail', 'items', 'verifies', 'placement', 'according', 'given', 'planogram', 'translates', 'automation', 'shelf', 'management', 'activities', 'centralized', 'monitoring', 'shelf', 'arrangement', 'hundreds', 'branches', 'validation', 'product', 'license', 'agreement', 'suppliers', 'use', 'MLpowered', 'analytics', 'solutions', 'help', 'businesses', 'forecast', 'inventory', 'demand', 'high', 'accuracy', 'Systems', 'rely', 'machine', 'learning', 'capable', 'analyzing', 'multitude', 'data', 'points', 'finding', 'subtle', 'patterns', 'indicating', 'changes', 'customer', 'preferences', 'behavior', 'satisfaction', 'nonobvious', 'humans', 'Whats', 'systems', 'dont', 'require', 'explicit', 'programming', 'machine', 'learning', 'models', 'learn', 'data', 'data', 'fed', 'better', 'handle', 'deriving', 'meaningful', 'insights', 'system', 'automate', 'manual', 'tasks', 'like', 'gap', 'price', 'scanning', 'free', 'staff', 'help', 'shoppers', 'increases', 'availability', 'provides', 'realtime', 'accurate', 'alerts', 'restock', 'shelves', 'faster', 'ever', 'increase', 'onshelf', 'availabilityit', 'transform', 'supply', 'chain', 'Drive', 'supply', 'chain', 'decisions', 'realtime', 'shelf', 'data', 'understand', 'actual', 'demand', 'avoid', 'inaccurate', 'inventory', 'management', 'comply', 'price', 'promotions', 'Automatically', 'detect', 'mismatches', 'shelf', 'avoid', 'customer', 'frustration', 'system', 'harmonize', 'online', 'offline', 'channels', 'Optimize', 'online', 'order', 'picking', 'reflect', 'real', 'availability', 'shopper', 'make', 'online', 'order', 'system', 'implemented', 'supermarket', 'use', 'application', 'predict', 'market', 'price', 'demand', 'accordingly', 'forecast', 'demand', 'take', 'actions', 'prior', 'system', 'also', 'keep', 'track', 'expiry', 'perishable', 'products', 'alerts', 'change', 'accordingly', 'correct', 'time', 'new', 'product', 'released', 'market', 'great', 'demand', 'system', 'try', 'analyze', 'placed', 'store', 'present', 'store', 'system', 'report', 'sales', 'manager', 'add', 'new', 'products', 'store', 'much', 'reachable', 'visible', 'place', 'buyers']\n"
          ]
        },
        {
          "output_type": "execute_result",
          "data": {
            "text/plain": [
              "373"
            ]
          },
          "metadata": {},
          "execution_count": 4
        }
      ]
    },
    {
      "cell_type": "code",
      "source": [
        "https://drive.google.com/file/d/1moS1tkh_AJafpcIFpktaSvZwrzv5d4ix/view"
      ],
      "metadata": {
        "id": "ZnEXBwxZ8qQC"
      },
      "execution_count": null,
      "outputs": []
    },
    {
      "cell_type": "code",
      "source": [
        "ref_file= pd.read_csv(\"/content/drive/MyDrive/Blackcoffer/LoughranMcDonald_MasterDictionary_2020.csv\")\n",
        "ref_file.head()\n",
        "words =ref_file['Word'].values\n",
        "pos_score= ref_file['Positive'].values\n",
        "neg_score= ref_file['Negative'].values\n",
        "index_of_pos_word = [i for i , e in enumerate(pos_score) if e != 0]\n",
        "index_of_neg_word = [i for i , e in enumerate(neg_score) if e != 0]\n",
        "master_positive_words = []\n",
        "for i in index_of_pos_word:\n",
        "  master_positive_words.append(words[i])\n",
        "print(master_positive_words)\n",
        "\n",
        "master_negative_words = []\n",
        "for i in index_of_neg_word:\n",
        "  master_negative_words.append(words[i])\n",
        "print(master_negative_words)\n"
      ],
      "metadata": {
        "colab": {
          "base_uri": "https://localhost:8080/"
        },
        "id": "zWyMp0wOO25d",
        "outputId": "3d5f8dd6-02a7-4983-fa29-fd88b3cb44a0"
      },
      "execution_count": null,
      "outputs": [
        {
          "output_type": "stream",
          "name": "stdout",
          "text": [
            "['ABLE', 'ABUNDANCE', 'ABUNDANT', 'ACCLAIMED', 'ACCOMPLISH', 'ACCOMPLISHED', 'ACCOMPLISHES', 'ACCOMPLISHING', 'ACCOMPLISHMENT', 'ACCOMPLISHMENTS', 'ACHIEVE', 'ACHIEVED', 'ACHIEVEMENT', 'ACHIEVEMENTS', 'ACHIEVES', 'ACHIEVING', 'ADEQUATELY', 'ADVANCEMENT', 'ADVANCEMENTS', 'ADVANCES', 'ADVANCING', 'ADVANTAGE', 'ADVANTAGED', 'ADVANTAGEOUS', 'ADVANTAGEOUSLY', 'ADVANTAGES', 'ALLIANCE', 'ALLIANCES', 'ASSURE', 'ASSURED', 'ASSURES', 'ASSURING', 'ATTAIN', 'ATTAINED', 'ATTAINING', 'ATTAINMENT', 'ATTAINMENTS', 'ATTAINS', 'ATTRACTIVE', 'ATTRACTIVENESS', 'BEAUTIFUL', 'BEAUTIFULLY', 'BENEFICIAL', 'BENEFICIALLY', 'BENEFIT', 'BENEFITED', 'BENEFITING', 'BENEFITTED', 'BENEFITTING', 'BEST', 'BETTER', 'BOLSTERED', 'BOLSTERING', 'BOLSTERS', 'BOOM', 'BOOMING', 'BOOST', 'BOOSTED', 'BREAKTHROUGH', 'BREAKTHROUGHS', 'BRILLIANT', 'CHARITABLE', 'COLLABORATE', 'COLLABORATED', 'COLLABORATES', 'COLLABORATING', 'COLLABORATION', 'COLLABORATIONS', 'COLLABORATIVE', 'COLLABORATOR', 'COLLABORATORS', 'COMPLIMENT', 'COMPLIMENTARY', 'COMPLIMENTED', 'COMPLIMENTING', 'COMPLIMENTS', 'CONCLUSIVE', 'CONCLUSIVELY', 'CONDUCIVE', 'CONFIDENT', 'CONSTRUCTIVE', 'CONSTRUCTIVELY', 'COURTEOUS', 'CREATIVE', 'CREATIVELY', 'CREATIVENESS', 'CREATIVITY', 'DELIGHT', 'DELIGHTED', 'DELIGHTFUL', 'DELIGHTFULLY', 'DELIGHTING', 'DELIGHTS', 'DEPENDABILITY', 'DEPENDABLE', 'DESIRABLE', 'DESIRED', 'DESPITE', 'DESTINED', 'DILIGENT', 'DILIGENTLY', 'DISTINCTION', 'DISTINCTIONS', 'DISTINCTIVE', 'DISTINCTIVELY', 'DISTINCTIVENESS', 'DREAM', 'EASIER', 'EASILY', 'EASY', 'EFFECTIVE', 'EFFICIENCIES', 'EFFICIENCY', 'EFFICIENT', 'EFFICIENTLY', 'EMPOWER', 'EMPOWERED', 'EMPOWERING', 'EMPOWERS', 'ENABLE', 'ENABLED', 'ENABLES', 'ENABLING', 'ENCOURAGED', 'ENCOURAGEMENT', 'ENCOURAGES', 'ENCOURAGING', 'ENHANCE', 'ENHANCED', 'ENHANCEMENT', 'ENHANCEMENTS', 'ENHANCES', 'ENHANCING', 'ENJOY', 'ENJOYABLE', 'ENJOYABLY', 'ENJOYED', 'ENJOYING', 'ENJOYMENT', 'ENJOYS', 'ENTHUSIASM', 'ENTHUSIASTIC', 'ENTHUSIASTICALLY', 'EXCELLENCE', 'EXCELLENT', 'EXCELLING', 'EXCELS', 'EXCEPTIONAL', 'EXCEPTIONALLY', 'EXCITED', 'EXCITEMENT', 'EXCITING', 'EXCLUSIVE', 'EXCLUSIVELY', 'EXCLUSIVENESS', 'EXCLUSIVES', 'EXCLUSIVITY', 'EXEMPLARY', 'FANTASTIC', 'FAVORABLE', 'FAVORABLY', 'FAVORED', 'FAVORING', 'FAVORITE', 'FAVORITES', 'FRIENDLY', 'GAIN', 'GAINED', 'GAINING', 'GAINS', 'GOOD', 'GREAT', 'GREATER', 'GREATEST', 'GREATLY', 'GREATNESS', 'HAPPIEST', 'HAPPILY', 'HAPPINESS', 'HAPPY', 'HIGHEST', 'HONOR', 'HONORABLE', 'HONORED', 'HONORING', 'HONORS', 'IDEAL', 'IMPRESS', 'IMPRESSED', 'IMPRESSES', 'IMPRESSING', 'IMPRESSIVE', 'IMPRESSIVELY', 'IMPROVE', 'IMPROVED', 'IMPROVEMENT', 'IMPROVEMENTS', 'IMPROVES', 'IMPROVING', 'INCREDIBLE', 'INCREDIBLY', 'INFLUENTIAL', 'INFORMATIVE', 'INGENUITY', 'INNOVATE', 'INNOVATED', 'INNOVATES', 'INNOVATING', 'INNOVATION', 'INNOVATIONS', 'INNOVATIVE', 'INNOVATIVENESS', 'INNOVATOR', 'INNOVATORS', 'INSIGHTFUL', 'INSPIRATION', 'INSPIRATIONAL', 'INTEGRITY', 'INVENT', 'INVENTED', 'INVENTING', 'INVENTION', 'INVENTIONS', 'INVENTIVE', 'INVENTIVENESS', 'INVENTOR', 'INVENTORS', 'LEADERSHIP', 'LEADING', 'LOYAL', 'LUCRATIVE', 'MERITORIOUS', 'OPPORTUNITIES', 'OPPORTUNITY', 'OPTIMISTIC', 'OUTPERFORM', 'OUTPERFORMED', 'OUTPERFORMING', 'OUTPERFORMS', 'PERFECT', 'PERFECTED', 'PERFECTLY', 'PERFECTS', 'PLEASANT', 'PLEASANTLY', 'PLEASED', 'PLEASURE', 'PLENTIFUL', 'POPULAR', 'POPULARITY', 'POSITIVE', 'POSITIVELY', 'PREEMINENCE', 'PREEMINENT', 'PREMIER', 'PREMIERE', 'PRESTIGE', 'PRESTIGIOUS', 'PROACTIVE', 'PROACTIVELY', 'PROFICIENCY', 'PROFICIENT', 'PROFICIENTLY', 'PROFITABILITY', 'PROFITABLE', 'PROFITABLY', 'PROGRESS', 'PROGRESSED', 'PROGRESSES', 'PROGRESSING', 'PROSPERED', 'PROSPERING', 'PROSPERITY', 'PROSPEROUS', 'PROSPERS', 'REBOUND', 'REBOUNDED', 'REBOUNDING', 'RECEPTIVE', 'REGAIN', 'REGAINED', 'REGAINING', 'RESOLVE', 'REVOLUTIONIZE', 'REVOLUTIONIZED', 'REVOLUTIONIZES', 'REVOLUTIONIZING', 'REWARD', 'REWARDED', 'REWARDING', 'REWARDS', 'SATISFACTION', 'SATISFACTORILY', 'SATISFACTORY', 'SATISFIED', 'SATISFIES', 'SATISFY', 'SATISFYING', 'SMOOTH', 'SMOOTHING', 'SMOOTHLY', 'SMOOTHS', 'SOLVES', 'SOLVING', 'SPECTACULAR', 'SPECTACULARLY', 'STABILITY', 'STABILIZATION', 'STABILIZATIONS', 'STABILIZE', 'STABILIZED', 'STABILIZES', 'STABILIZING', 'STABLE', 'STRENGTH', 'STRENGTHEN', 'STRENGTHENED', 'STRENGTHENING', 'STRENGTHENS', 'STRENGTHS', 'STRONG', 'STRONGER', 'STRONGEST', 'SUCCEED', 'SUCCEEDED', 'SUCCEEDING', 'SUCCEEDS', 'SUCCESS', 'SUCCESSES', 'SUCCESSFUL', 'SUCCESSFULLY', 'SUPERIOR', 'SURPASS', 'SURPASSED', 'SURPASSES', 'SURPASSING', 'TRANSPARENCY', 'TREMENDOUS', 'TREMENDOUSLY', 'UNMATCHED', 'UNPARALLELED', 'UNSURPASSED', 'UPTURN', 'UPTURNS', 'VALUABLE', 'VERSATILE', 'VERSATILITY', 'VIBRANCY', 'VIBRANT', 'WIN', 'WINNER', 'WINNERS', 'WINNING', 'WORTHY']\n",
            "['ABANDON', 'ABANDONED', 'ABANDONING', 'ABANDONMENT', 'ABANDONMENTS', 'ABANDONS', 'ABDICATED', 'ABDICATES', 'ABDICATING', 'ABDICATION', 'ABDICATIONS', 'ABERRANT', 'ABERRATION', 'ABERRATIONAL', 'ABERRATIONS', 'ABETTING', 'ABNORMAL', 'ABNORMALITIES', 'ABNORMALITY', 'ABNORMALLY', 'ABOLISH', 'ABOLISHED', 'ABOLISHES', 'ABOLISHING', 'ABROGATE', 'ABROGATED', 'ABROGATES', 'ABROGATING', 'ABROGATION', 'ABROGATIONS', 'ABRUPT', 'ABRUPTLY', 'ABRUPTNESS', 'ABSENCE', 'ABSENCES', 'ABSENTEEISM', 'ABUSE', 'ABUSED', 'ABUSES', 'ABUSING', 'ABUSIVE', 'ABUSIVELY', 'ABUSIVENESS', 'ACCIDENT', 'ACCIDENTAL', 'ACCIDENTALLY', 'ACCIDENTS', 'ACCUSATION', 'ACCUSATIONS', 'ACCUSE', 'ACCUSED', 'ACCUSES', 'ACCUSING', 'ACQUIESCE', 'ACQUIESCED', 'ACQUIESCES', 'ACQUIESCING', 'ACQUIT', 'ACQUITS', 'ACQUITTAL', 'ACQUITTALS', 'ACQUITTED', 'ACQUITTING', 'ADULTERATE', 'ADULTERATED', 'ADULTERATING', 'ADULTERATION', 'ADULTERATIONS', 'ADVERSARIAL', 'ADVERSARIES', 'ADVERSARY', 'ADVERSE', 'ADVERSELY', 'ADVERSITIES', 'ADVERSITY', 'AFTERMATH', 'AFTERMATHS', 'AGAINST', 'AGGRAVATE', 'AGGRAVATED', 'AGGRAVATES', 'AGGRAVATING', 'AGGRAVATION', 'AGGRAVATIONS', 'ALERTED', 'ALERTING', 'ALIENATE', 'ALIENATED', 'ALIENATES', 'ALIENATING', 'ALIENATION', 'ALIENATIONS', 'ALLEGATION', 'ALLEGATIONS', 'ALLEGE', 'ALLEGED', 'ALLEGEDLY', 'ALLEGES', 'ALLEGING', 'ANNOY', 'ANNOYANCE', 'ANNOYANCES', 'ANNOYED', 'ANNOYING', 'ANNOYS', 'ANNUL', 'ANNULLED', 'ANNULLING', 'ANNULMENT', 'ANNULMENTS', 'ANNULS', 'ANOMALIES', 'ANOMALOUS', 'ANOMALOUSLY', 'ANOMALY', 'ANTICOMPETITIVE', 'ANTITRUST', 'ARGUE', 'ARGUED', 'ARGUING', 'ARGUMENT', 'ARGUMENTATIVE', 'ARGUMENTS', 'ARREARAGE', 'ARREARAGES', 'ARREARS', 'ARREST', 'ARRESTED', 'ARRESTS', 'ARTIFICIALLY', 'ASSAULT', 'ASSAULTED', 'ASSAULTING', 'ASSAULTS', 'ASSERTIONS', 'ATTRITION', 'AVERSELY', 'BACKDATING', 'BAD', 'BAIL', 'BAILOUT', 'BALK', 'BALKED', 'BANKRUPT', 'BANKRUPTCIES', 'BANKRUPTCY', 'BANKRUPTED', 'BANKRUPTING', 'BANKRUPTS', 'BANS', 'BARRED', 'BARRIER', 'BARRIERS', 'BOTTLENECK', 'BOTTLENECKS', 'BOYCOTT', 'BOYCOTTED', 'BOYCOTTING', 'BOYCOTTS', 'BREACH', 'BREACHED', 'BREACHES', 'BREACHING', 'BREAK', 'BREAKAGE', 'BREAKAGES', 'BREAKDOWN', 'BREAKDOWNS', 'BREAKING', 'BREAKS', 'BRIBE', 'BRIBED', 'BRIBERIES', 'BRIBERY', 'BRIBES', 'BRIBING', 'BRIDGE', 'BROKEN', 'BURDEN', 'BURDENED', 'BURDENING', 'BURDENS', 'BURDENSOME', 'BURNED', 'CALAMITIES', 'CALAMITOUS', 'CALAMITY', 'CANCEL', 'CANCELED', 'CANCELING', 'CANCELLATION', 'CANCELLATIONS', 'CANCELLED', 'CANCELLING', 'CANCELS', 'CARELESS', 'CARELESSLY', 'CARELESSNESS', 'CATASTROPHE', 'CATASTROPHES', 'CATASTROPHIC', 'CATASTROPHICALLY', 'CAUTION', 'CAUTIONARY', 'CAUTIONED', 'CAUTIONING', 'CAUTIONS', 'CEASE', 'CEASED', 'CEASES', 'CEASING', 'CENSURE', 'CENSURED', 'CENSURES', 'CENSURING', 'CHALLENGE', 'CHALLENGED', 'CHALLENGES', 'CHALLENGING', 'CHARGEOFFS', 'CIRCUMVENT', 'CIRCUMVENTED', 'CIRCUMVENTING', 'CIRCUMVENTION', 'CIRCUMVENTIONS', 'CIRCUMVENTS', 'CLAIMING', 'CLAIMS', 'CLAWBACK', 'CLOSED', 'CLOSEOUT', 'CLOSEOUTS', 'CLOSING', 'CLOSINGS', 'CLOSURE', 'CLOSURES', 'COERCE', 'COERCED', 'COERCES', 'COERCING', 'COERCION', 'COERCIVE', 'COLLAPSE', 'COLLAPSED', 'COLLAPSES', 'COLLAPSING', 'COLLISION', 'COLLISIONS', 'COLLUDE', 'COLLUDED', 'COLLUDES', 'COLLUDING', 'COLLUSION', 'COLLUSIONS', 'COLLUSIVE', 'COMPLAIN', 'COMPLAINED', 'COMPLAINING', 'COMPLAINS', 'COMPLAINT', 'COMPLAINTS', 'COMPLICATE', 'COMPLICATED', 'COMPLICATES', 'COMPLICATING', 'COMPLICATION', 'COMPLICATIONS', 'COMPULSION', 'CONCEALED', 'CONCEALING', 'CONCEDE', 'CONCEDED', 'CONCEDES', 'CONCEDING', 'CONCERN', 'CONCERNED', 'CONCERNS', 'CONCILIATING', 'CONCILIATION', 'CONCILIATIONS', 'CONDEMN', 'CONDEMNATION', 'CONDEMNATIONS', 'CONDEMNED', 'CONDEMNING', 'CONDEMNS', 'CONDONE', 'CONDONED', 'CONFESS', 'CONFESSED', 'CONFESSES', 'CONFESSING', 'CONFESSION', 'CONFINE', 'CONFINED', 'CONFINEMENT', 'CONFINEMENTS', 'CONFINES', 'CONFINING', 'CONFISCATE', 'CONFISCATED', 'CONFISCATES', 'CONFISCATING', 'CONFISCATION', 'CONFISCATIONS', 'CONFLICT', 'CONFLICTED', 'CONFLICTING', 'CONFLICTS', 'CONFRONT', 'CONFRONTATION', 'CONFRONTATIONAL', 'CONFRONTATIONS', 'CONFRONTED', 'CONFRONTING', 'CONFRONTS', 'CONFUSE', 'CONFUSED', 'CONFUSES', 'CONFUSING', 'CONFUSINGLY', 'CONFUSION', 'CONSPIRACIES', 'CONSPIRACY', 'CONSPIRATOR', 'CONSPIRATORIAL', 'CONSPIRATORS', 'CONSPIRE', 'CONSPIRED', 'CONSPIRES', 'CONSPIRING', 'CONTEMPT', 'CONTEND', 'CONTENDED', 'CONTENDING', 'CONTENDS', 'CONTENTION', 'CONTENTIONS', 'CONTENTIOUS', 'CONTENTIOUSLY', 'CONTESTED', 'CONTESTING', 'CONTRACTION', 'CONTRACTIONS', 'CONTRADICT', 'CONTRADICTED', 'CONTRADICTING', 'CONTRADICTION', 'CONTRADICTIONS', 'CONTRADICTORY', 'CONTRADICTS', 'CONTRARY', 'CONTROVERSIAL', 'CONTROVERSIES', 'CONTROVERSY', 'CONVICT', 'CONVICTED', 'CONVICTING', 'CONVICTION', 'CONVICTIONS', 'CORRECTED', 'CORRECTING', 'CORRECTION', 'CORRECTIONS', 'CORRECTS', 'CORRUPT', 'CORRUPTED', 'CORRUPTING', 'CORRUPTION', 'CORRUPTIONS', 'CORRUPTLY', 'CORRUPTNESS', 'COSTLY', 'COUNTERCLAIM', 'COUNTERCLAIMED', 'COUNTERCLAIMING', 'COUNTERCLAIMS', 'COUNTERFEIT', 'COUNTERFEITED', 'COUNTERFEITER', 'COUNTERFEITERS', 'COUNTERFEITING', 'COUNTERFEITS', 'COUNTERMEASURE', 'COUNTERMEASURES', 'CRIME', 'CRIMES', 'CRIMINAL', 'CRIMINALLY', 'CRIMINALS', 'CRISES', 'CRISIS', 'CRITICAL', 'CRITICALLY', 'CRITICISM', 'CRITICISMS', 'CRITICIZE', 'CRITICIZED', 'CRITICIZES', 'CRITICIZING', 'CRUCIAL', 'CRUCIALLY', 'CULPABILITY', 'CULPABLE', 'CULPABLY', 'CUMBERSOME', 'CURTAIL', 'CURTAILED', 'CURTAILING', 'CURTAILMENT', 'CURTAILMENTS', 'CURTAILS', 'CUT', 'CUTBACK', 'CUTBACKS', 'CYBERATTACK', 'CYBERATTACKS', 'CYBERBULLYING', 'CYBERCRIME', 'CYBERCRIMES', 'CYBERCRIMINAL', 'CYBERCRIMINALS', 'DAMAGE', 'DAMAGED', 'DAMAGES', 'DAMAGING', 'DAMPEN', 'DAMPENED', 'DANGER', 'DANGEROUS', 'DANGEROUSLY', 'DANGERS', 'DEADLOCK', 'DEADLOCKED', 'DEADLOCKING', 'DEADLOCKS', 'DEADWEIGHT', 'DEADWEIGHTS', 'DEBARMENT', 'DEBARMENTS', 'DEBARRED', 'DECEASED', 'DECEIT', 'DECEITFUL', 'DECEITFULNESS', 'DECEIVE', 'DECEIVED', 'DECEIVES', 'DECEIVING', 'DECEPTION', 'DECEPTIONS', 'DECEPTIVE', 'DECEPTIVELY', 'DECLINE', 'DECLINED', 'DECLINES', 'DECLINING', 'DEFACE', 'DEFACED', 'DEFACEMENT', 'DEFAMATION', 'DEFAMATIONS', 'DEFAMATORY', 'DEFAME', 'DEFAMED', 'DEFAMES', 'DEFAMING', 'DEFAULT', 'DEFAULTED', 'DEFAULTING', 'DEFAULTS', 'DEFEAT', 'DEFEATED', 'DEFEATING', 'DEFEATS', 'DEFECT', 'DEFECTIVE', 'DEFECTS', 'DEFEND', 'DEFENDANT', 'DEFENDANTS', 'DEFENDED', 'DEFENDING', 'DEFENDS', 'DEFENSIVE', 'DEFER', 'DEFICIENCIES', 'DEFICIENCY', 'DEFICIENT', 'DEFICIT', 'DEFICITS', 'DEFRAUD', 'DEFRAUDED', 'DEFRAUDING', 'DEFRAUDS', 'DEFUNCT', 'DEGRADATION', 'DEGRADATIONS', 'DEGRADE', 'DEGRADED', 'DEGRADES', 'DEGRADING', 'DELAY', 'DELAYED', 'DELAYING', 'DELAYS', 'DELETERIOUS', 'DELIBERATE', 'DELIBERATED', 'DELIBERATELY', 'DELINQUENCIES', 'DELINQUENCY', 'DELINQUENT', 'DELINQUENTLY', 'DELINQUENTS', 'DELIST', 'DELISTED', 'DELISTING', 'DELISTS', 'DEMISE', 'DEMISED', 'DEMISES', 'DEMISING', 'DEMOLISH', 'DEMOLISHED', 'DEMOLISHES', 'DEMOLISHING', 'DEMOLITION', 'DEMOLITIONS', 'DEMOTE', 'DEMOTED', 'DEMOTES', 'DEMOTING', 'DEMOTION', 'DEMOTIONS', 'DENIAL', 'DENIALS', 'DENIED', 'DENIES', 'DENIGRATE', 'DENIGRATED', 'DENIGRATES', 'DENIGRATING', 'DENIGRATION', 'DENY', 'DENYING', 'DEPLETE', 'DEPLETED', 'DEPLETES', 'DEPLETING', 'DEPLETION', 'DEPLETIONS', 'DEPRECATION', 'DEPRESS', 'DEPRESSED', 'DEPRESSES', 'DEPRESSING', 'DEPRIVATION', 'DEPRIVE', 'DEPRIVED', 'DEPRIVES', 'DEPRIVING', 'DERELICT', 'DERELICTION', 'DEROGATORY', 'DESTABILIZATION', 'DESTABILIZE', 'DESTABILIZED', 'DESTABILIZING', 'DESTROY', 'DESTROYED', 'DESTROYING', 'DESTROYS', 'DESTRUCTION', 'DESTRUCTIVE', 'DETAIN', 'DETAINED', 'DETENTION', 'DETENTIONS', 'DETER', 'DETERIORATE', 'DETERIORATED', 'DETERIORATES', 'DETERIORATING', 'DETERIORATION', 'DETERIORATIONS', 'DETERRED', 'DETERRENCE', 'DETERRENCES', 'DETERRENT', 'DETERRENTS', 'DETERRING', 'DETERS', 'DETRACT', 'DETRACTED', 'DETRACTING', 'DETRIMENT', 'DETRIMENTAL', 'DETRIMENTALLY', 'DETRIMENTS', 'DEVALUE', 'DEVALUED', 'DEVALUES', 'DEVALUING', 'DEVASTATE', 'DEVASTATED', 'DEVASTATING', 'DEVASTATION', 'DEVIATE', 'DEVIATED', 'DEVIATES', 'DEVIATING', 'DEVIATION', 'DEVIATIONS', 'DEVOLVE', 'DEVOLVED', 'DEVOLVES', 'DEVOLVING', 'DIFFICULT', 'DIFFICULTIES', 'DIFFICULTLY', 'DIFFICULTY', 'DIMINISH', 'DIMINISHED', 'DIMINISHES', 'DIMINISHING', 'DIMINUTION', 'DISADVANTAGE', 'DISADVANTAGED', 'DISADVANTAGEOUS', 'DISADVANTAGES', 'DISAFFILIATION', 'DISAGREE', 'DISAGREEABLE', 'DISAGREED', 'DISAGREEING', 'DISAGREEMENT', 'DISAGREEMENTS', 'DISAGREES', 'DISALLOW', 'DISALLOWANCE', 'DISALLOWANCES', 'DISALLOWED', 'DISALLOWING', 'DISALLOWS', 'DISAPPEAR', 'DISAPPEARANCE', 'DISAPPEARANCES', 'DISAPPEARED', 'DISAPPEARING', 'DISAPPEARS', 'DISAPPOINT', 'DISAPPOINTED', 'DISAPPOINTING', 'DISAPPOINTINGLY', 'DISAPPOINTMENT', 'DISAPPOINTMENTS', 'DISAPPOINTS', 'DISAPPROVAL', 'DISAPPROVALS', 'DISAPPROVE', 'DISAPPROVED', 'DISAPPROVES', 'DISAPPROVING', 'DISASSOCIATES', 'DISASSOCIATING', 'DISASSOCIATION', 'DISASSOCIATIONS', 'DISASTER', 'DISASTERS', 'DISASTROUS', 'DISASTROUSLY', 'DISAVOW', 'DISAVOWAL', 'DISAVOWED', 'DISAVOWING', 'DISAVOWS', 'DISCIPLINARY', 'DISCLAIM', 'DISCLAIMED', 'DISCLAIMER', 'DISCLAIMERS', 'DISCLAIMING', 'DISCLAIMS', 'DISCLOSE', 'DISCLOSED', 'DISCLOSES', 'DISCLOSING', 'DISCONTINUANCE', 'DISCONTINUANCES', 'DISCONTINUATION', 'DISCONTINUATIONS', 'DISCONTINUE', 'DISCONTINUED', 'DISCONTINUES', 'DISCONTINUING', 'DISCOURAGE', 'DISCOURAGED', 'DISCOURAGES', 'DISCOURAGING', 'DISCREDIT', 'DISCREDITED', 'DISCREDITING', 'DISCREDITS', 'DISCREPANCIES', 'DISCREPANCY', 'DISFAVOR', 'DISFAVORED', 'DISFAVORING', 'DISFAVORS', 'DISGORGE', 'DISGORGED', 'DISGORGEMENT', 'DISGORGEMENTS', 'DISGORGES', 'DISGORGING', 'DISGRACE', 'DISGRACEFUL', 'DISGRACEFULLY', 'DISHONEST', 'DISHONESTLY', 'DISHONESTY', 'DISHONOR', 'DISHONORABLE', 'DISHONORABLY', 'DISHONORED', 'DISHONORING', 'DISHONORS', 'DISINCENTIVES', 'DISINTERESTED', 'DISINTERESTEDLY', 'DISINTERESTEDNESS', 'DISLOYAL', 'DISLOYALLY', 'DISLOYALTY', 'DISMAL', 'DISMALLY', 'DISMISS', 'DISMISSAL', 'DISMISSALS', 'DISMISSED', 'DISMISSES', 'DISMISSING', 'DISORDERLY', 'DISPARAGE', 'DISPARAGED', 'DISPARAGEMENT', 'DISPARAGEMENTS', 'DISPARAGES', 'DISPARAGING', 'DISPARAGINGLY', 'DISPARITIES', 'DISPARITY', 'DISPLACE', 'DISPLACED', 'DISPLACEMENT', 'DISPLACEMENTS', 'DISPLACES', 'DISPLACING', 'DISPOSE', 'DISPOSSESS', 'DISPOSSESSED', 'DISPOSSESSES', 'DISPOSSESSING', 'DISPROPORTION', 'DISPROPORTIONAL', 'DISPROPORTIONATE', 'DISPROPORTIONATELY', 'DISPUTE', 'DISPUTED', 'DISPUTES', 'DISPUTING', 'DISQUALIFICATION', 'DISQUALIFICATIONS', 'DISQUALIFIED', 'DISQUALIFIES', 'DISQUALIFY', 'DISQUALIFYING', 'DISREGARD', 'DISREGARDED', 'DISREGARDING', 'DISREGARDS', 'DISREPUTABLE', 'DISREPUTE', 'DISRUPT', 'DISRUPTED', 'DISRUPTING', 'DISRUPTION', 'DISRUPTIONS', 'DISRUPTIVE', 'DISRUPTS', 'DISSATISFACTION', 'DISSATISFIED', 'DISSENT', 'DISSENTED', 'DISSENTER', 'DISSENTERS', 'DISSENTING', 'DISSENTS', 'DISSIDENT', 'DISSIDENTS', 'DISSOLUTION', 'DISSOLUTIONS', 'DISTORT', 'DISTORTED', 'DISTORTING', 'DISTORTION', 'DISTORTIONS', 'DISTORTS', 'DISTRACT', 'DISTRACTED', 'DISTRACTING', 'DISTRACTION', 'DISTRACTIONS', 'DISTRACTS', 'DISTRESS', 'DISTRESSED', 'DISTURB', 'DISTURBANCE', 'DISTURBANCES', 'DISTURBED', 'DISTURBING', 'DISTURBS', 'DIVERSION', 'DIVERT', 'DIVERTED', 'DIVERTING', 'DIVERTS', 'DIVEST', 'DIVESTED', 'DIVESTING', 'DIVESTITURE', 'DIVESTITURES', 'DIVESTMENT', 'DIVESTMENTS', 'DIVESTS', 'DIVORCE', 'DIVORCED', 'DIVULGE', 'DIVULGED', 'DIVULGES', 'DIVULGING', 'DOUBT', 'DOUBTED', 'DOUBTFUL', 'DOUBTS', 'DOWNGRADE', 'DOWNGRADED', 'DOWNGRADES', 'DOWNGRADING', 'DOWNSIZE', 'DOWNSIZED', 'DOWNSIZES', 'DOWNSIZING', 'DOWNSIZINGS', 'DOWNTIME', 'DOWNTIMES', 'DOWNTURN', 'DOWNTURNS', 'DOWNWARD', 'DOWNWARDS', 'DRAG', 'DRASTIC', 'DRASTICALLY', 'DRAWBACK', 'DRAWBACKS', 'DROPPED', 'DROUGHT', 'DROUGHTS', 'DURESS', 'DYSFUNCTION', 'DYSFUNCTIONAL', 'DYSFUNCTIONS', 'EASING', 'EGREGIOUS', 'EGREGIOUSLY', 'EMBARGO', 'EMBARGOED', 'EMBARGOES', 'EMBARGOING', 'EMBARRASS', 'EMBARRASSED', 'EMBARRASSES', 'EMBARRASSING', 'EMBARRASSMENT', 'EMBARRASSMENTS', 'EMBEZZLE', 'EMBEZZLED', 'EMBEZZLEMENT', 'EMBEZZLEMENTS', 'EMBEZZLER', 'EMBEZZLES', 'EMBEZZLING', 'ENCROACH', 'ENCROACHED', 'ENCROACHES', 'ENCROACHING', 'ENCROACHMENT', 'ENCROACHMENTS', 'ENCUMBER', 'ENCUMBERED', 'ENCUMBERING', 'ENCUMBERS', 'ENCUMBRANCE', 'ENCUMBRANCES', 'ENDANGER', 'ENDANGERED', 'ENDANGERING', 'ENDANGERMENT', 'ENDANGERS', 'ENJOIN', 'ENJOINED', 'ENJOINING', 'ENJOINS', 'ERODE', 'ERODED', 'ERODES', 'ERODING', 'EROSION', 'ERRATIC', 'ERRATICALLY', 'ERRED', 'ERRING', 'ERRONEOUS', 'ERRONEOUSLY', 'ERROR', 'ERRORS', 'ERRS', 'ESCALATE', 'ESCALATED', 'ESCALATES', 'ESCALATING', 'EVADE', 'EVADED', 'EVADES', 'EVADING', 'EVASION', 'EVASIONS', 'EVASIVE', 'EVICT', 'EVICTED', 'EVICTING', 'EVICTION', 'EVICTIONS', 'EVICTS', 'EXACERBATE', 'EXACERBATED', 'EXACERBATES', 'EXACERBATING', 'EXACERBATION', 'EXACERBATIONS', 'EXAGGERATE', 'EXAGGERATED', 'EXAGGERATES', 'EXAGGERATING', 'EXAGGERATION', 'EXCESSIVE', 'EXCESSIVELY', 'EXCULPATE', 'EXCULPATED', 'EXCULPATES', 'EXCULPATING', 'EXCULPATION', 'EXCULPATIONS', 'EXCULPATORY', 'EXONERATE', 'EXONERATED', 'EXONERATES', 'EXONERATING', 'EXONERATION', 'EXONERATIONS', 'EXPLOIT', 'EXPLOITATION', 'EXPLOITATIONS', 'EXPLOITATIVE', 'EXPLOITED', 'EXPLOITING', 'EXPLOITS', 'EXPOSE', 'EXPOSED', 'EXPOSES', 'EXPOSING', 'EXPROPRIATE', 'EXPROPRIATED', 'EXPROPRIATES', 'EXPROPRIATING', 'EXPROPRIATION', 'EXPROPRIATIONS', 'EXPULSION', 'EXPULSIONS', 'EXTENUATING', 'FAIL', 'FAILED', 'FAILING', 'FAILINGS', 'FAILS', 'FAILURE', 'FAILURES', 'FALLOUT', 'FALSE', 'FALSELY', 'FALSIFICATION', 'FALSIFICATIONS', 'FALSIFIED', 'FALSIFIES', 'FALSIFY', 'FALSIFYING', 'FALSITY', 'FATALITIES', 'FATALITY', 'FATALLY', 'FAULT', 'FAULTED', 'FAULTS', 'FAULTY', 'FEAR', 'FEARS', 'FELONIES', 'FELONIOUS', 'FELONY', 'FICTITIOUS', 'FINED', 'FINES', 'FIRED', 'FIRING', 'FLAW', 'FLAWED', 'FLAWS', 'FORBID', 'FORBIDDEN', 'FORBIDDING', 'FORBIDS', 'FORCE', 'FORCED', 'FORCING', 'FORECLOSE', 'FORECLOSED', 'FORECLOSES', 'FORECLOSING', 'FORECLOSURE', 'FORECLOSURES', 'FOREGO', 'FOREGOES', 'FOREGONE', 'FORESTALL', 'FORESTALLED', 'FORESTALLING', 'FORESTALLS', 'FORFEIT', 'FORFEITED', 'FORFEITING', 'FORFEITS', 'FORFEITURE', 'FORFEITURES', 'FORGERS', 'FORGERY', 'FRAUD', 'FRAUDS', 'FRAUDULENCE', 'FRAUDULENT', 'FRAUDULENTLY', 'FRIVOLOUS', 'FRIVOLOUSLY', 'FRUSTRATE', 'FRUSTRATED', 'FRUSTRATES', 'FRUSTRATING', 'FRUSTRATINGLY', 'FRUSTRATION', 'FRUSTRATIONS', 'FUGITIVE', 'FUGITIVES', 'GRATUITOUS', 'GRATUITOUSLY', 'GRIEVANCE', 'GRIEVANCES', 'GROSSLY', 'GROUNDLESS', 'GUILTY', 'HALT', 'HALTED', 'HAMPER', 'HAMPERED', 'HAMPERING', 'HAMPERS', 'HARASS', 'HARASSED', 'HARASSING', 'HARASSMENT', 'HARDSHIP', 'HARDSHIPS', 'HARM', 'HARMED', 'HARMFUL', 'HARMFULLY', 'HARMING', 'HARMS', 'HARSH', 'HARSHER', 'HARSHEST', 'HARSHLY', 'HARSHNESS', 'HAZARD', 'HAZARDOUS', 'HAZARDS', 'HINDER', 'HINDERED', 'HINDERING', 'HINDERS', 'HINDRANCE', 'HINDRANCES', 'HOSTILE', 'HOSTILITY', 'HURT', 'HURTING', 'IDLE', 'IDLED', 'IDLING', 'IGNORE', 'IGNORED', 'IGNORES', 'IGNORING', 'ILL', 'ILLEGAL', 'ILLEGALITIES', 'ILLEGALITY', 'ILLEGALLY', 'ILLEGIBLE', 'ILLICIT', 'ILLICITLY', 'ILLIQUID', 'ILLIQUIDITY', 'IMBALANCE', 'IMBALANCES', 'IMMATURE', 'IMMORAL', 'IMPAIR', 'IMPAIRED', 'IMPAIRING', 'IMPAIRMENT', 'IMPAIRMENTS', 'IMPAIRS', 'IMPASSE', 'IMPASSES', 'IMPEDE', 'IMPEDED', 'IMPEDES', 'IMPEDIMENT', 'IMPEDIMENTS', 'IMPEDING', 'IMPENDING', 'IMPERATIVE', 'IMPERFECTION', 'IMPERFECTIONS', 'IMPERIL', 'IMPERMISSIBLE', 'IMPLICATE', 'IMPLICATED', 'IMPLICATES', 'IMPLICATING', 'IMPOSSIBILITY', 'IMPOSSIBLE', 'IMPOUND', 'IMPOUNDED', 'IMPOUNDING', 'IMPOUNDS', 'IMPRACTICABLE', 'IMPRACTICAL', 'IMPRACTICALITIES', 'IMPRACTICALITY', 'IMPRISONMENT', 'IMPROPER', 'IMPROPERLY', 'IMPROPRIETIES', 'IMPROPRIETY', 'IMPRUDENT', 'IMPRUDENTLY', 'INABILITY', 'INACCESSIBLE', 'INACCURACIES', 'INACCURACY', 'INACCURATE', 'INACCURATELY', 'INACTION', 'INACTIONS', 'INACTIVATE', 'INACTIVATED', 'INACTIVATES', 'INACTIVATING', 'INACTIVATION', 'INACTIVATIONS', 'INACTIVITY', 'INADEQUACIES', 'INADEQUACY', 'INADEQUATE', 'INADEQUATELY', 'INADVERTENT', 'INADVERTENTLY', 'INADVISABILITY', 'INADVISABLE', 'INAPPROPRIATE', 'INAPPROPRIATELY', 'INATTENTION', 'INCAPABLE', 'INCAPACITATED', 'INCAPACITY', 'INCARCERATE', 'INCARCERATED', 'INCARCERATES', 'INCARCERATING', 'INCARCERATION', 'INCARCERATIONS', 'INCIDENCE', 'INCIDENCES', 'INCIDENT', 'INCIDENTS', 'INCOMPATIBILITIES', 'INCOMPATIBILITY', 'INCOMPATIBLE', 'INCOMPETENCE', 'INCOMPETENCY', 'INCOMPETENT', 'INCOMPETENTLY', 'INCOMPETENTS', 'INCOMPLETE', 'INCOMPLETELY', 'INCOMPLETENESS', 'INCONCLUSIVE', 'INCONSISTENCIES', 'INCONSISTENCY', 'INCONSISTENT', 'INCONSISTENTLY', 'INCONVENIENCE', 'INCONVENIENCES', 'INCONVENIENT', 'INCORRECT', 'INCORRECTLY', 'INCORRECTNESS', 'INDECENCY', 'INDECENT', 'INDEFEASIBLE', 'INDEFEASIBLY', 'INDICT', 'INDICTABLE', 'INDICTED', 'INDICTING', 'INDICTMENT', 'INDICTMENTS', 'INEFFECTIVE', 'INEFFECTIVELY', 'INEFFECTIVENESS', 'INEFFICIENCIES', 'INEFFICIENCY', 'INEFFICIENT', 'INEFFICIENTLY', 'INELIGIBILITY', 'INELIGIBLE', 'INEQUITABLE', 'INEQUITABLY', 'INEQUITIES', 'INEQUITY', 'INEVITABLE', 'INEXPERIENCE', 'INEXPERIENCED', 'INFERIOR', 'INFLICTED', 'INFRACTION', 'INFRACTIONS', 'INFRINGE', 'INFRINGED', 'INFRINGEMENT', 'INFRINGEMENTS', 'INFRINGES', 'INFRINGING', 'INHIBITED', 'INIMICAL', 'INJUNCTION', 'INJUNCTIONS', 'INJURE', 'INJURED', 'INJURES', 'INJURIES', 'INJURING', 'INJURIOUS', 'INJURY', 'INORDINATE', 'INORDINATELY', 'INQUIRY', 'INSECURE', 'INSENSITIVE', 'INSOLVENCIES', 'INSOLVENCY', 'INSOLVENT', 'INSTABILITY', 'INSUBORDINATION', 'INSUFFICIENCY', 'INSUFFICIENT', 'INSUFFICIENTLY', 'INSURRECTION', 'INSURRECTIONS', 'INTENTIONAL', 'INTERFERE', 'INTERFERED', 'INTERFERENCE', 'INTERFERENCES', 'INTERFERES', 'INTERFERING', 'INTERMITTENT', 'INTERMITTENTLY', 'INTERRUPT', 'INTERRUPTED', 'INTERRUPTING', 'INTERRUPTION', 'INTERRUPTIONS', 'INTERRUPTS', 'INTIMIDATION', 'INTRUSION', 'INVALID', 'INVALIDATE', 'INVALIDATED', 'INVALIDATES', 'INVALIDATING', 'INVALIDATION', 'INVALIDITY', 'INVESTIGATE', 'INVESTIGATED', 'INVESTIGATES', 'INVESTIGATING', 'INVESTIGATION', 'INVESTIGATIONS', 'INVOLUNTARILY', 'INVOLUNTARY', 'IRRECONCILABLE', 'IRRECONCILABLY', 'IRRECOVERABLE', 'IRRECOVERABLY', 'IRREGULAR', 'IRREGULARITIES', 'IRREGULARITY', 'IRREGULARLY', 'IRREPARABLE', 'IRREPARABLY', 'IRREVERSIBLE', 'JEOPARDIZE', 'JEOPARDIZED', 'JUSTIFIABLE', 'KICKBACK', 'KICKBACKS', 'KNOWINGLY', 'LACK', 'LACKED', 'LACKING', 'LACKLUSTER', 'LACKS', 'LAG', 'LAGGED', 'LAGGING', 'LAGS', 'LAPSE', 'LAPSED', 'LAPSES', 'LAPSING', 'LATE', 'LAUNDERING', 'LAYOFF', 'LAYOFFS', 'LIE', 'LIMITATION', 'LIMITATIONS', 'LINGERING', 'LIQUIDATE', 'LIQUIDATED', 'LIQUIDATES', 'LIQUIDATING', 'LIQUIDATION', 'LIQUIDATIONS', 'LIQUIDATOR', 'LIQUIDATORS', 'LITIGANT', 'LITIGANTS', 'LITIGATE', 'LITIGATED', 'LITIGATES', 'LITIGATING', 'LITIGATION', 'LITIGATIONS', 'LOCKOUT', 'LOCKOUTS', 'LOSE', 'LOSES', 'LOSING', 'LOSS', 'LOSSES', 'LOST', 'LYING', 'MALFEASANCE', 'MALFUNCTION', 'MALFUNCTIONED', 'MALFUNCTIONING', 'MALFUNCTIONS', 'MALICE', 'MALICIOUS', 'MALICIOUSLY', 'MALPRACTICE', 'MANIPULATE', 'MANIPULATED', 'MANIPULATES', 'MANIPULATING', 'MANIPULATION', 'MANIPULATIONS', 'MANIPULATIVE', 'MARKDOWN', 'MARKDOWNS', 'MISAPPLICATION', 'MISAPPLICATIONS', 'MISAPPLIED', 'MISAPPLIES', 'MISAPPLY', 'MISAPPLYING', 'MISAPPROPRIATE', 'MISAPPROPRIATED', 'MISAPPROPRIATES', 'MISAPPROPRIATING', 'MISAPPROPRIATION', 'MISAPPROPRIATIONS', 'MISBRANDED', 'MISCALCULATE', 'MISCALCULATED', 'MISCALCULATES', 'MISCALCULATING', 'MISCALCULATION', 'MISCALCULATIONS', 'MISCHARACTERIZATION', 'MISCHIEF', 'MISCLASSIFICATION', 'MISCLASSIFICATIONS', 'MISCLASSIFIED', 'MISCLASSIFY', 'MISCOMMUNICATION', 'MISCONDUCT', 'MISDATED', 'MISDEMEANOR', 'MISDEMEANORS', 'MISDIRECTED', 'MISHANDLE', 'MISHANDLED', 'MISHANDLES', 'MISHANDLING', 'MISINFORM', 'MISINFORMATION', 'MISINFORMED', 'MISINFORMING', 'MISINFORMS', 'MISINTERPRET', 'MISINTERPRETATION', 'MISINTERPRETATIONS', 'MISINTERPRETED', 'MISINTERPRETING', 'MISINTERPRETS', 'MISJUDGE', 'MISJUDGED', 'MISJUDGES', 'MISJUDGING', 'MISJUDGMENT', 'MISJUDGMENTS', 'MISLABEL', 'MISLABELED', 'MISLABELING', 'MISLABELLED', 'MISLABELS', 'MISLEAD', 'MISLEADING', 'MISLEADINGLY', 'MISLEADS', 'MISLED', 'MISMANAGE', 'MISMANAGED', 'MISMANAGEMENT', 'MISMANAGES', 'MISMANAGING', 'MISMATCH', 'MISMATCHED', 'MISMATCHES', 'MISMATCHING', 'MISPLACED', 'MISPRICE', 'MISPRICING', 'MISPRICINGS', 'MISREPRESENT', 'MISREPRESENTATION', 'MISREPRESENTATIONS', 'MISREPRESENTED', 'MISREPRESENTING', 'MISREPRESENTS', 'MISS', 'MISSED', 'MISSES', 'MISSTATE', 'MISSTATED', 'MISSTATEMENT', 'MISSTATEMENTS', 'MISSTATES', 'MISSTATING', 'MISSTEP', 'MISSTEPS', 'MISTAKE', 'MISTAKEN', 'MISTAKENLY', 'MISTAKES', 'MISTAKING', 'MISTRIAL', 'MISTRIALS', 'MISUNDERSTAND', 'MISUNDERSTANDING', 'MISUNDERSTANDINGS', 'MISUNDERSTOOD', 'MISUSE', 'MISUSED', 'MISUSES', 'MISUSING', 'MONOPOLISTIC', 'MONOPOLISTS', 'MONOPOLIZATION', 'MONOPOLIZE', 'MONOPOLIZED', 'MONOPOLIZES', 'MONOPOLIZING', 'MONOPOLY', 'MORATORIA', 'MORATORIUM', 'MORATORIUMS', 'MOTHBALLED', 'MOTHBALLING', 'NEGATIVE', 'NEGATIVELY', 'NEGATIVES', 'NEGLECT', 'NEGLECTED', 'NEGLECTFUL', 'NEGLECTING', 'NEGLECTS', 'NEGLIGENCE', 'NEGLIGENCES', 'NEGLIGENT', 'NEGLIGENTLY', 'NONATTAINMENT', 'NONCOMPETITIVE', 'NONCOMPLIANCE', 'NONCOMPLIANCES', 'NONCOMPLIANT', 'NONCOMPLYING', 'NONCONFORMING', 'NONCONFORMITIES', 'NONCONFORMITY', 'NONDISCLOSURE', 'NONFUNCTIONAL', 'NONPAYMENT', 'NONPAYMENTS', 'NONPERFORMANCE', 'NONPERFORMANCES', 'NONPERFORMING', 'NONPRODUCING', 'NONPRODUCTIVE', 'NONRECOVERABLE', 'NONRENEWAL', 'NUISANCE', 'NUISANCES', 'NULLIFICATION', 'NULLIFICATIONS', 'NULLIFIED', 'NULLIFIES', 'NULLIFY', 'NULLIFYING', 'OBJECTED', 'OBJECTING', 'OBJECTION', 'OBJECTIONABLE', 'OBJECTIONABLY', 'OBJECTIONS', 'OBSCENE', 'OBSCENITY', 'OBSOLESCENCE', 'OBSOLETE', 'OBSTACLE', 'OBSTACLES', 'OBSTRUCT', 'OBSTRUCTED', 'OBSTRUCTING', 'OBSTRUCTION', 'OBSTRUCTIONS', 'OFFENCE', 'OFFENCES', 'OFFEND', 'OFFENDED', 'OFFENDER', 'OFFENDERS', 'OFFENDING', 'OFFENDS', 'OMISSION', 'OMISSIONS', 'OMIT', 'OMITS', 'OMITTED', 'OMITTING', 'ONEROUS', 'OPPORTUNISTIC', 'OPPORTUNISTICALLY', 'OPPOSE', 'OPPOSED', 'OPPOSES', 'OPPOSING', 'OPPOSITION', 'OPPOSITIONS', 'OUTAGE', 'OUTAGES', 'OUTDATED', 'OUTMODED', 'OVERAGE', 'OVERAGES', 'OVERBUILD', 'OVERBUILDING', 'OVERBUILDS', 'OVERBUILT', 'OVERBURDEN', 'OVERBURDENED', 'OVERBURDENING', 'OVERCAPACITIES', 'OVERCAPACITY', 'OVERCHARGE', 'OVERCHARGED', 'OVERCHARGES', 'OVERCHARGING', 'OVERCOME', 'OVERCOMES', 'OVERCOMING', 'OVERDUE', 'OVERESTIMATE', 'OVERESTIMATED', 'OVERESTIMATES', 'OVERESTIMATING', 'OVERESTIMATION', 'OVERESTIMATIONS', 'OVERLOAD', 'OVERLOADED', 'OVERLOADING', 'OVERLOADS', 'OVERLOOK', 'OVERLOOKED', 'OVERLOOKING', 'OVERLOOKS', 'OVERPAID', 'OVERPAYMENT', 'OVERPAYMENTS', 'OVERPRODUCED', 'OVERPRODUCES', 'OVERPRODUCING', 'OVERPRODUCTION', 'OVERRUN', 'OVERRUNNING', 'OVERRUNS', 'OVERSHADOW', 'OVERSHADOWED', 'OVERSHADOWING', 'OVERSHADOWS', 'OVERSTATE', 'OVERSTATED', 'OVERSTATEMENT', 'OVERSTATEMENTS', 'OVERSTATES', 'OVERSTATING', 'OVERSUPPLIED', 'OVERSUPPLIES', 'OVERSUPPLY', 'OVERSUPPLYING', 'OVERTLY', 'OVERTURN', 'OVERTURNED', 'OVERTURNING', 'OVERTURNS', 'OVERVALUE', 'OVERVALUED', 'OVERVALUING', 'PANIC', 'PANICS', 'PENALIZE', 'PENALIZED', 'PENALIZES', 'PENALIZING', 'PENALTIES', 'PENALTY', 'PERIL', 'PERILS', 'PERJURY', 'PERPETRATE', 'PERPETRATED', 'PERPETRATES', 'PERPETRATING', 'PERPETRATION', 'PERSIST', 'PERSISTED', 'PERSISTENCE', 'PERSISTENT', 'PERSISTENTLY', 'PERSISTING', 'PERSISTS', 'PERVASIVE', 'PERVASIVELY', 'PERVASIVENESS', 'PETTY', 'PICKET', 'PICKETED', 'PICKETING', 'PLAINTIFF', 'PLAINTIFFS', 'PLEA', 'PLEAD', 'PLEADED', 'PLEADING', 'PLEADINGS', 'PLEADS', 'PLEAS', 'PLED', 'POOR', 'POORLY', 'POSES', 'POSING', 'POSTPONE', 'POSTPONED', 'POSTPONEMENT', 'POSTPONEMENTS', 'POSTPONES', 'POSTPONING', 'PRECIPITATED', 'PRECIPITOUS', 'PRECIPITOUSLY', 'PRECLUDE', 'PRECLUDED', 'PRECLUDES', 'PRECLUDING', 'PREDATORY', 'PREJUDICE', 'PREJUDICED', 'PREJUDICES', 'PREJUDICIAL', 'PREJUDICING', 'PREMATURE', 'PREMATURELY', 'PRESSING', 'PRETRIAL', 'PREVENTING', 'PREVENTION', 'PREVENTS', 'PROBLEM', 'PROBLEMATIC', 'PROBLEMATICAL', 'PROBLEMS', 'PROLONG', 'PROLONGATION', 'PROLONGATIONS', 'PROLONGED', 'PROLONGING', 'PROLONGS', 'PRONE', 'PROSECUTE', 'PROSECUTED', 'PROSECUTES', 'PROSECUTING', 'PROSECUTION', 'PROSECUTIONS', 'PROTEST', 'PROTESTED', 'PROTESTER', 'PROTESTERS', 'PROTESTING', 'PROTESTOR', 'PROTESTORS', 'PROTESTS', 'PROTRACTED', 'PROTRACTION', 'PROVOKE', 'PROVOKED', 'PROVOKES', 'PROVOKING', 'PUNISHED', 'PUNISHES', 'PUNISHING', 'PUNISHMENT', 'PUNISHMENTS', 'PUNITIVE', 'PURPORT', 'PURPORTED', 'PURPORTEDLY', 'PURPORTING', 'PURPORTS', 'QUESTION', 'QUESTIONABLE', 'QUESTIONABLY', 'QUESTIONED', 'QUESTIONING', 'QUESTIONS', 'QUIT', 'QUITTING', 'RACKETEER', 'RACKETEERING', 'RATIONALIZATION', 'RATIONALIZATIONS', 'RATIONALIZE', 'RATIONALIZED', 'RATIONALIZES', 'RATIONALIZING', 'REASSESSMENT', 'REASSESSMENTS', 'REASSIGN', 'REASSIGNED', 'REASSIGNING', 'REASSIGNMENT', 'REASSIGNMENTS', 'REASSIGNS', 'RECALL', 'RECALLED', 'RECALLING', 'RECALLS', 'RECESSION', 'RECESSIONARY', 'RECESSIONS', 'RECKLESS', 'RECKLESSLY', 'RECKLESSNESS', 'REDACT', 'REDACTED', 'REDACTING', 'REDACTION', 'REDACTIONS', 'REDEFAULT', 'REDEFAULTED', 'REDEFAULTS', 'REDRESS', 'REDRESSED', 'REDRESSES', 'REDRESSING', 'REFUSAL', 'REFUSALS', 'REFUSE', 'REFUSED', 'REFUSES', 'REFUSING', 'REJECT', 'REJECTED', 'REJECTING', 'REJECTION', 'REJECTIONS', 'REJECTS', 'RELINQUISH', 'RELINQUISHED', 'RELINQUISHES', 'RELINQUISHING', 'RELINQUISHMENT', 'RELINQUISHMENTS', 'RELUCTANCE', 'RELUCTANT', 'RENEGOTIATE', 'RENEGOTIATED', 'RENEGOTIATES', 'RENEGOTIATING', 'RENEGOTIATION', 'RENEGOTIATIONS', 'RENOUNCE', 'RENOUNCED', 'RENOUNCEMENT', 'RENOUNCEMENTS', 'RENOUNCES', 'RENOUNCING', 'REPARATION', 'REPARATIONS', 'REPOSSESSED', 'REPOSSESSES', 'REPOSSESSING', 'REPOSSESSION', 'REPOSSESSIONS', 'REPUDIATE', 'REPUDIATED', 'REPUDIATES', 'REPUDIATING', 'REPUDIATION', 'REPUDIATIONS', 'RESIGN', 'RESIGNATION', 'RESIGNATIONS', 'RESIGNED', 'RESIGNING', 'RESIGNS', 'RESTATE', 'RESTATED', 'RESTATEMENT', 'RESTATEMENTS', 'RESTATES', 'RESTATING', 'RESTRUCTURE', 'RESTRUCTURED', 'RESTRUCTURES', 'RESTRUCTURING', 'RESTRUCTURINGS', 'RETALIATE', 'RETALIATED', 'RETALIATES', 'RETALIATING', 'RETALIATION', 'RETALIATIONS', 'RETALIATORY', 'RETRIBUTION', 'RETRIBUTIONS', 'REVOCATION', 'REVOCATIONS', 'REVOKE', 'REVOKED', 'REVOKES', 'REVOKING', 'RIDICULE', 'RIDICULED', 'RIDICULES', 'RIDICULING', 'RISKIER', 'RISKIEST', 'RISKY', 'SABOTAGE', 'SACRIFICE', 'SACRIFICED', 'SACRIFICES', 'SACRIFICIAL', 'SACRIFICING', 'SCANDALOUS', 'SCANDALS', 'SCRUTINIZE', 'SCRUTINIZED', 'SCRUTINIZES', 'SCRUTINIZING', 'SCRUTINY', 'SECRECY', 'SEIZE', 'SEIZED', 'SEIZES', 'SEIZING', 'SENTENCED', 'SENTENCING', 'SERIOUS', 'SERIOUSLY', 'SERIOUSNESS', 'SETBACK', 'SETBACKS', 'SEVER', 'SEVERE', 'SEVERED', 'SEVERELY', 'SEVERITIES', 'SEVERITY', 'SHARPLY', 'SHOCKED', 'SHORTAGE', 'SHORTAGES', 'SHORTFALL', 'SHORTFALLS', 'SHRINKAGE', 'SHRINKAGES', 'SHUT', 'SHUTDOWN', 'SHUTDOWNS', 'SHUTS', 'SHUTTING', 'SLANDER', 'SLANDERED', 'SLANDEROUS', 'SLANDERS', 'SLIPPAGE', 'SLIPPAGES', 'SLOW', 'SLOWDOWN', 'SLOWDOWNS', 'SLOWED', 'SLOWER', 'SLOWEST', 'SLOWING', 'SLOWLY', 'SLOWNESS', 'SLUGGISH', 'SLUGGISHLY', 'SLUGGISHNESS', 'SOLVENCIES', 'SOLVENCY', 'SPAM', 'SPAMMERS', 'SPAMMING', 'STAGGERING', 'STAGNANT', 'STAGNATE', 'STAGNATED', 'STAGNATES', 'STAGNATING', 'STAGNATION', 'STANDSTILL', 'STANDSTILLS', 'STOLEN', 'STOPPAGE', 'STOPPAGES', 'STOPPED', 'STOPPING', 'STOPS', 'STRAIN', 'STRAINED', 'STRAINING', 'STRAINS', 'STRESS', 'STRESSED', 'STRESSES', 'STRESSFUL', 'STRESSING', 'STRINGENT', 'SUBJECTED', 'SUBJECTING', 'SUBJECTION', 'SUBPOENA', 'SUBPOENAED', 'SUBPOENAS', 'SUBSTANDARD', 'SUE', 'SUED', 'SUES', 'SUFFER', 'SUFFERED', 'SUFFERING', 'SUFFERS', 'SUING', 'SUMMONED', 'SUMMONING', 'SUMMONS', 'SUMMONSES', 'SUSCEPTIBILITY', 'SUSCEPTIBLE', 'SUSPECT', 'SUSPECTED', 'SUSPECTS', 'SUSPEND', 'SUSPENDED', 'SUSPENDING', 'SUSPENDS', 'SUSPENSION', 'SUSPENSIONS', 'SUSPICION', 'SUSPICIONS', 'SUSPICIOUS', 'SUSPICIOUSLY', 'TAINT', 'TAINTED', 'TAINTING', 'TAINTS', 'TAMPERED', 'TENSE', 'TERMINATE', 'TERMINATED', 'TERMINATES', 'TERMINATING', 'TERMINATION', 'TERMINATIONS', 'TESTIFY', 'TESTIFYING', 'THREAT', 'THREATEN', 'THREATENED', 'THREATENING', 'THREATENS', 'THREATS', 'TIGHTENING', 'TOLERATE', 'TOLERATED', 'TOLERATES', 'TOLERATING', 'TOLERATION', 'TORTUOUS', 'TORTUOUSLY', 'TRAGEDIES', 'TRAGEDY', 'TRAGIC', 'TRAGICALLY', 'TRAUMATIC', 'TROUBLE', 'TROUBLED', 'TROUBLES', 'TURBULENCE', 'TURMOIL', 'UNABLE', 'UNACCEPTABLE', 'UNACCEPTABLY', 'UNACCOUNTED', 'UNANNOUNCED', 'UNANTICIPATED', 'UNAPPROVED', 'UNATTRACTIVE', 'UNAUTHORIZED', 'UNAVAILABILITY', 'UNAVAILABLE', 'UNAVOIDABLE', 'UNAVOIDABLY', 'UNAWARE', 'UNCOLLECTABLE', 'UNCOLLECTED', 'UNCOLLECTIBILITY', 'UNCOLLECTIBLE', 'UNCOLLECTIBLES', 'UNCOMPETITIVE', 'UNCOMPLETED', 'UNCONSCIONABLE', 'UNCONSCIONABLY', 'UNCONTROLLABLE', 'UNCONTROLLABLY', 'UNCONTROLLED', 'UNCORRECTED', 'UNCOVER', 'UNCOVERED', 'UNCOVERING', 'UNCOVERS', 'UNDELIVERABLE', 'UNDELIVERED', 'UNDERCAPITALIZED', 'UNDERCUT', 'UNDERCUTS', 'UNDERCUTTING', 'UNDERESTIMATE', 'UNDERESTIMATED', 'UNDERESTIMATES', 'UNDERESTIMATING', 'UNDERESTIMATION', 'UNDERFUNDED', 'UNDERINSURED', 'UNDERMINE', 'UNDERMINED', 'UNDERMINES', 'UNDERMINING', 'UNDERPAID', 'UNDERPAYMENT', 'UNDERPAYMENTS', 'UNDERPAYS', 'UNDERPERFORM', 'UNDERPERFORMANCE', 'UNDERPERFORMED', 'UNDERPERFORMING', 'UNDERPERFORMS', 'UNDERPRODUCED', 'UNDERPRODUCTION', 'UNDERREPORTING', 'UNDERSTATE', 'UNDERSTATED', 'UNDERSTATEMENT', 'UNDERSTATEMENTS', 'UNDERSTATES', 'UNDERSTATING', 'UNDERUTILIZATION', 'UNDERUTILIZED', 'UNDESIRABLE', 'UNDESIRED', 'UNDETECTED', 'UNDETERMINED', 'UNDISCLOSED', 'UNDOCUMENTED', 'UNDUE', 'UNDULY', 'UNECONOMIC', 'UNECONOMICAL', 'UNECONOMICALLY', 'UNEMPLOYED', 'UNEMPLOYMENT', 'UNETHICAL', 'UNETHICALLY', 'UNEXCUSED', 'UNEXPECTED', 'UNEXPECTEDLY', 'UNFAIR', 'UNFAIRLY', 'UNFAVORABILITY', 'UNFAVORABLE', 'UNFAVORABLY', 'UNFAVOURABLE', 'UNFEASIBLE', 'UNFIT', 'UNFITNESS', 'UNFORESEEABLE', 'UNFORESEEN', 'UNFORSEEN', 'UNFORTUNATE', 'UNFORTUNATELY', 'UNFOUNDED', 'UNFRIENDLY', 'UNFULFILLED', 'UNFUNDED', 'UNINSURED', 'UNINTENDED', 'UNINTENTIONAL', 'UNINTENTIONALLY', 'UNJUST', 'UNJUSTIFIABLE', 'UNJUSTIFIABLY', 'UNJUSTIFIED', 'UNJUSTLY', 'UNKNOWING', 'UNKNOWINGLY', 'UNLAWFUL', 'UNLAWFULLY', 'UNLICENSED', 'UNLIQUIDATED', 'UNMARKETABLE', 'UNMERCHANTABLE', 'UNMERITORIOUS', 'UNNECESSARILY', 'UNNECESSARY', 'UNNEEDED', 'UNOBTAINABLE', 'UNOCCUPIED', 'UNPAID', 'UNPERFORMED', 'UNPLANNED', 'UNPOPULAR', 'UNPREDICTABILITY', 'UNPREDICTABLE', 'UNPREDICTABLY', 'UNPREDICTED', 'UNPRODUCTIVE', 'UNPROFITABILITY', 'UNPROFITABLE', 'UNQUALIFIED', 'UNREALISTIC', 'UNREASONABLE', 'UNREASONABLENESS', 'UNREASONABLY', 'UNRECEPTIVE', 'UNRECOVERABLE', 'UNRECOVERED', 'UNREIMBURSED', 'UNRELIABLE', 'UNREMEDIED', 'UNREPORTED', 'UNRESOLVED', 'UNREST', 'UNSAFE', 'UNSALABLE', 'UNSALEABLE', 'UNSATISFACTORY', 'UNSATISFIED', 'UNSAVORY', 'UNSCHEDULED', 'UNSELLABLE', 'UNSOLD', 'UNSOUND', 'UNSTABILIZED', 'UNSTABLE', 'UNSUBSTANTIATED', 'UNSUCCESSFUL', 'UNSUCCESSFULLY', 'UNSUITABILITY', 'UNSUITABLE', 'UNSUITABLY', 'UNSUITED', 'UNSURE', 'UNSUSPECTED', 'UNSUSPECTING', 'UNSUSTAINABLE', 'UNTENABLE', 'UNTIMELY', 'UNTRUSTED', 'UNTRUTH', 'UNTRUTHFUL', 'UNTRUTHFULLY', 'UNTRUTHFULNESS', 'UNTRUTHS', 'UNUSABLE', 'UNWANTED', 'UNWARRANTED', 'UNWELCOME', 'UNWILLING', 'UNWILLINGNESS', 'UPSET', 'URGENCY', 'URGENT', 'USURIOUS', 'USURP', 'USURPED', 'USURPING', 'USURPS', 'USURY', 'VANDALISM', 'VERDICT', 'VERDICTS', 'VETOED', 'VICTIMS', 'VIOLATE', 'VIOLATED', 'VIOLATES', 'VIOLATING', 'VIOLATION', 'VIOLATIONS', 'VIOLATIVE', 'VIOLATOR', 'VIOLATORS', 'VIOLENCE', 'VIOLENT', 'VIOLENTLY', 'VITIATE', 'VITIATED', 'VITIATES', 'VITIATING', 'VITIATION', 'VOIDED', 'VOIDING', 'VOLATILE', 'VOLATILITY', 'VULNERABILITIES', 'VULNERABILITY', 'VULNERABLE', 'VULNERABLY', 'WARN', 'WARNED', 'WARNING', 'WARNINGS', 'WARNS', 'WASTED', 'WASTEFUL', 'WASTING', 'WEAK', 'WEAKEN', 'WEAKENED', 'WEAKENING', 'WEAKENS', 'WEAKER', 'WEAKEST', 'WEAKLY', 'WEAKNESS', 'WEAKNESSES', 'WILLFULLY', 'WORRIES', 'WORRY', 'WORRYING', 'WORSE', 'WORSEN', 'WORSENED', 'WORSENING', 'WORSENS', 'WORST', 'WORTHLESS', 'WRITEDOWN', 'WRITEDOWNS', 'WRITEOFF', 'WRITEOFFS', 'WRONG', 'WRONGDOING', 'WRONGDOINGS', 'WRONGFUL', 'WRONGFULLY', 'WRONGLY']\n"
          ]
        }
      ]
    },
    {
      "cell_type": "code",
      "source": [
        "\n",
        "pos_words= []\n",
        "neg_words= []\n",
        "for word in filtered_sentence:\n",
        "    if word.upper() in master_positive_words:\n",
        "      pos_words.append(word)\n",
        "    elif word.upper() in master_negative_words:\n",
        "      neg_words.append(word)\n",
        "print(pos_words)\n",
        "print(neg_words)\n",
        "\n"
      ],
      "metadata": {
        "colab": {
          "base_uri": "https://localhost:8080/"
        },
        "id": "mo5Pn06MEVLc",
        "outputId": "9b843657-5d92-444c-d992-73432d6d229f"
      },
      "execution_count": null,
      "outputs": [
        {
          "output_type": "stream",
          "name": "stdout",
          "text": [
            "['innovation', 'efficiency', 'enhance', 'improve', 'enabling', 'achieve', 'satisfaction', 'better', 'great']\n",
            "['challenge', 'poor', 'overcome', 'inaccurate', 'mismatches', 'frustration']\n"
          ]
        }
      ]
    },
    {
      "cell_type": "code",
      "source": [
        "len(pos_words)"
      ],
      "metadata": {
        "colab": {
          "base_uri": "https://localhost:8080/"
        },
        "id": "1voXROih0BUr",
        "outputId": "a66ad3bb-0282-4c2b-f842-ff37948e3b7b"
      },
      "execution_count": null,
      "outputs": [
        {
          "output_type": "execute_result",
          "data": {
            "text/plain": [
              "9"
            ]
          },
          "metadata": {},
          "execution_count": 9
        }
      ]
    }
  ]
}